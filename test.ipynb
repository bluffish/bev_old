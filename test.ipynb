{
 "cells": [
  {
   "cell_type": "code",
   "execution_count": 37,
   "metadata": {
    "collapsed": true,
    "ExecuteTime": {
     "end_time": "2023-06-08T19:34:51.582863925Z",
     "start_time": "2023-06-08T19:34:51.540234564Z"
    }
   },
   "outputs": [],
   "source": [
    "import torch"
   ]
  },
  {
   "cell_type": "code",
   "execution_count": 38,
   "outputs": [],
   "source": [
    "score = torch.load('test/uncertainty_scores.pt')\n",
    "label = torch.load('test/uncertainty_labels.pt')"
   ],
   "metadata": {
    "collapsed": false,
    "ExecuteTime": {
     "end_time": "2023-06-08T19:34:52.433327871Z",
     "start_time": "2023-06-08T19:34:52.324734501Z"
    }
   }
  },
  {
   "cell_type": "code",
   "execution_count": 39,
   "outputs": [],
   "source": [
    "%matplotlib inline\n",
    "import matplotlib.pyplot as plt\n",
    "from sklearn.metrics import *\n"
   ],
   "metadata": {
    "collapsed": false,
    "ExecuteTime": {
     "end_time": "2023-06-08T19:34:53.017023350Z",
     "start_time": "2023-06-08T19:34:53.010297909Z"
    }
   }
  },
  {
   "cell_type": "code",
   "execution_count": 40,
   "outputs": [
    {
     "name": "stdout",
     "output_type": "stream",
     "text": [
      "torch.Size([64, 200, 200]) torch.Size([64, 200, 200])\n"
     ]
    }
   ],
   "source": [
    "print(score.shape, label.shape)"
   ],
   "metadata": {
    "collapsed": false,
    "ExecuteTime": {
     "end_time": "2023-06-08T19:34:53.811889467Z",
     "start_time": "2023-06-08T19:34:53.797749341Z"
    }
   }
  },
  {
   "cell_type": "code",
   "execution_count": 41,
   "outputs": [
    {
     "data": {
      "text/plain": "0.35456385404955126"
     },
     "execution_count": 41,
     "metadata": {},
     "output_type": "execute_result"
    }
   ],
   "source": [
    "cohen_kappa_score(label.flatten(), score.flatten() > .5)"
   ],
   "metadata": {
    "collapsed": false,
    "ExecuteTime": {
     "end_time": "2023-06-08T19:34:56.054017947Z",
     "start_time": "2023-06-08T19:34:54.489216130Z"
    }
   }
  },
  {
   "cell_type": "code",
   "execution_count": 51,
   "outputs": [],
   "source": [
    "patch_acc = []\n",
    "patch_unc = []\n",
    "\n",
    "anchor = (0, 0)\n",
    "window_size = 1\n",
    "last_anchor = (label.shape[1] - window_size, label.shape[2] - window_size)\n",
    "\n",
    "while anchor != last_anchor:\n",
    "    label_window = label[:, anchor[0]:anchor[0] + window_size, anchor[1]:anchor[1] + window_size]\n",
    "    uncertainty_window = score[:, anchor[0]:anchor[0] + window_size, anchor[1]:anchor[1] + window_size]\n",
    "\n",
    "    accuracy = torch.sum(label_window, dim=(1, 2)) / (window_size ** 2)\n",
    "    avg_uncertainty = torch.mean(uncertainty_window, dim=(1, 2))\n",
    "    accurate = accuracy > .5\n",
    "    uncertain = avg_uncertainty >= .4\n",
    "\n",
    "    patch_acc += accurate.flatten()\n",
    "    patch_unc += avg_uncertainty.flatten()\n",
    "\n",
    "    if anchor[1] < label.shape[1] - window_size:\n",
    "        anchor = (anchor[0], anchor[1] + window_size)\n",
    "    else:\n",
    "        anchor = (anchor[0] + window_size, 0)"
   ],
   "metadata": {
    "collapsed": false,
    "ExecuteTime": {
     "end_time": "2023-06-08T19:36:57.519472371Z",
     "start_time": "2023-06-08T19:36:44.160193553Z"
    }
   }
  },
  {
   "cell_type": "code",
   "execution_count": 49,
   "outputs": [],
   "source": [
    "import numpy as np"
   ],
   "metadata": {
    "collapsed": false,
    "ExecuteTime": {
     "end_time": "2023-06-08T19:35:40.647292745Z",
     "start_time": "2023-06-08T19:35:40.646652453Z"
    }
   }
  },
  {
   "cell_type": "code",
   "execution_count": 53,
   "outputs": [
    {
     "data": {
      "text/plain": "0.40265468427868556"
     },
     "execution_count": 53,
     "metadata": {},
     "output_type": "execute_result"
    }
   ],
   "source": [
    "cohen_kappa_score(np.array(patch_acc), np.array(patch_unc) > .4)"
   ],
   "metadata": {
    "collapsed": false,
    "ExecuteTime": {
     "end_time": "2023-06-08T19:39:18.863066353Z",
     "start_time": "2023-06-08T19:38:51.806692869Z"
    }
   }
  },
  {
   "cell_type": "code",
   "execution_count": null,
   "outputs": [],
   "source": [],
   "metadata": {
    "collapsed": false
   }
  }
 ],
 "metadata": {
  "kernelspec": {
   "display_name": "Python 3",
   "language": "python",
   "name": "python3"
  },
  "language_info": {
   "codemirror_mode": {
    "name": "ipython",
    "version": 2
   },
   "file_extension": ".py",
   "mimetype": "text/x-python",
   "name": "python",
   "nbconvert_exporter": "python",
   "pygments_lexer": "ipython2",
   "version": "2.7.6"
  }
 },
 "nbformat": 4,
 "nbformat_minor": 0
}
