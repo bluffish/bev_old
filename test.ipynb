{
 "cells": [
  {
   "cell_type": "code",
   "execution_count": 4,
   "metadata": {},
   "outputs": [],
   "source": [
    "from datasets.nuscenes import compile_data as compile_data, denormalize_img\n",
    "import yaml\n",
    "import matplotlib.pyplot as plt\n",
    "import torch"
   ]
  },
  {
   "cell_type": "code",
   "execution_count": 5,
   "outputs": [],
   "source": [
    "from nuscenes.utils.geometry_utils import view_points, box_in_image, BoxVisibility, transform_matrix\n",
    "from PIL import Image"
   ],
   "metadata": {
    "collapsed": false
   }
  },
  {
   "cell_type": "code",
   "execution_count": 6,
   "metadata": {},
   "outputs": [
    {
     "name": "stdout",
     "output_type": "stream",
     "text": [
      "Flipped: False\n",
      "Dims: (224, 480)\n",
      "../data/nuscenes/trainval\n",
      "OOD labels: ['vehicle.bus.rigid', 'vehicle.bus.bendy']\n",
      "OOD labels: ['vehicle.bus.rigid', 'vehicle.bus.bendy']\n"
     ]
    }
   ],
   "source": [
    "with open(\"./configs/eval_nuscenes_cvt_enn.yaml\", 'r') as file:\n",
    "    config = yaml.safe_load(file)\n",
    "    \n",
    "config['batch_size'] = 1\n",
    "config['num_workers'] = 1\n",
    "\n",
    "train_loader, val_loader = compile_data(\"trainval\", config, shuffle_train=True, ood=True)"
   ]
  },
  {
   "cell_type": "code",
   "execution_count": 7,
   "metadata": {},
   "outputs": [
    {
     "ename": "ValueError",
     "evalue": "too many values to unpack (expected 9)",
     "output_type": "error",
     "traceback": [
      "\u001B[0;31m---------------------------------------------------------------------------\u001B[0m",
      "\u001B[0;31mValueError\u001B[0m                                Traceback (most recent call last)",
      "Cell \u001B[0;32mIn[7], line 3\u001B[0m\n\u001B[1;32m      1\u001B[0m t \u001B[38;5;241m=\u001B[39m \u001B[38;5;28miter\u001B[39m(train_loader)\n\u001B[1;32m      2\u001B[0m \u001B[38;5;28mnext\u001B[39m(t)\n\u001B[0;32m----> 3\u001B[0m imgs, rots, trans, intrins, extrins, post_rots, post_trans, labels, ood \u001B[38;5;241m=\u001B[39m \u001B[38;5;28mnext\u001B[39m(t)\n",
      "\u001B[0;31mValueError\u001B[0m: too many values to unpack (expected 9)"
     ]
    }
   ],
   "source": [
    "t = iter(train_loader)\n",
    "next(t)\n",
    "imgs, rots, trans, intrins, extrins, post_rots, post_trans, labels, ood = next(t)"
   ]
  },
  {
   "cell_type": "raw",
   "metadata": {},
   "source": [
    "      "
   ]
  },
  {
   "cell_type": "code",
   "execution_count": null,
   "metadata": {},
   "outputs": [],
   "source": [
    "data_path, boxes, camera_intrinsic = train_loader.dataset.nusc.get_sample_data(\"612cd30211924116a6d288fe7fc40050\",\n",
    "                                                               box_vis_level=BoxVisibility.ALL)\n",
    "\n",
    "image = Image.open(data_path)"
   ]
  },
  {
   "cell_type": "code",
   "execution_count": null,
   "outputs": [],
   "source": [
    "plt.clf()\n",
    "plt.imshow(image, vmax=255)"
   ],
   "metadata": {
    "collapsed": false
   }
  },
  {
   "cell_type": "code",
   "execution_count": null,
   "outputs": [],
   "source": [
    "import numpy as np\n",
    "import cv2"
   ],
   "metadata": {
    "collapsed": false
   }
  },
  {
   "cell_type": "code",
   "execution_count": null,
   "outputs": [],
   "source": [
    "#\n",
    "ood = np.zeros((14, 30))\n",
    "\n",
    "for box in boxes:\n",
    "    print(box.name)\n",
    "    corners = view_points(box.corners(), camera_intrinsic, normalize=True)[:2, :]\n",
    "    corners = np.round(corners*.3/16)\n",
    "\n",
    "    corners = np.int32(corners).T\n",
    "\n",
    "    cv2.fillConvexPoly(ood, corners[0:4], color=1)\n",
    "    cv2.fillConvexPoly(ood, corners[1:5], color=1)\n",
    "    cv2.fillConvexPoly(ood, corners[2:6], color=1)\n",
    "    cv2.fillConvexPoly(ood, corners[3:7], color=1)\n",
    "\n",
    "print(np.max(ood))\n",
    "plt.imshow(ood*255)\n"
   ],
   "metadata": {
    "collapsed": false
   }
  },
  {
   "cell_type": "code",
   "execution_count": null,
   "outputs": [],
   "source": [],
   "metadata": {
    "collapsed": false,
    "pycharm": {
     "is_executing": true
    }
   }
  },
  {
   "cell_type": "code",
   "execution_count": null,
   "outputs": [],
   "source": [],
   "metadata": {
    "collapsed": false,
    "pycharm": {
     "is_executing": true
    }
   }
  },
  {
   "cell_type": "code",
   "execution_count": null,
   "outputs": [],
   "source": [],
   "metadata": {
    "collapsed": false
   }
  },
  {
   "cell_type": "code",
   "execution_count": null,
   "outputs": [],
   "source": [],
   "metadata": {
    "collapsed": false
   }
  }
 ],
 "metadata": {
  "kernelspec": {
   "display_name": "Python 3 (ipykernel)",
   "language": "python",
   "name": "python3"
  },
  "language_info": {
   "codemirror_mode": {
    "name": "ipython",
    "version": 3
   },
   "file_extension": ".py",
   "mimetype": "text/x-python",
   "name": "python",
   "nbconvert_exporter": "python",
   "pygments_lexer": "ipython3",
   "version": "3.8.10"
  }
 },
 "nbformat": 4,
 "nbformat_minor": 1
}
