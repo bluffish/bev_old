{
 "cells": [
  {
   "cell_type": "code",
   "execution_count": 1,
   "metadata": {},
   "outputs": [],
   "source": [
    "from datasets.nuscenes import compile_data as compile_data, denormalize_img\n",
    "import yaml\n",
    "import matplotlib.pyplot as plt\n",
    "import torch"
   ]
  },
  {
   "cell_type": "code",
   "execution_count": 2,
   "metadata": {},
   "outputs": [
    {
     "name": "stdout",
     "output_type": "stream",
     "text": [
      "Flipped: False\n",
      "Dims: (224, 480)\n",
      "../data/nuscenes/mini\n",
      "OOD labels: ['vehicle.bus.rigid', 'vehicle.bus.bendy']\n",
      "OOD labels: ['vehicle.construction']\n"
     ]
    },
    {
     "ename": "IndexError",
     "evalue": "list index out of range",
     "output_type": "error",
     "traceback": [
      "\u001b[0;31m---------------------------------------------------------------------------\u001b[0m",
      "\u001b[0;31mIndexError\u001b[0m                                Traceback (most recent call last)",
      "Cell \u001b[0;32mIn[2], line 7\u001b[0m\n\u001b[1;32m      4\u001b[0m config[\u001b[38;5;124m'\u001b[39m\u001b[38;5;124mbatch_size\u001b[39m\u001b[38;5;124m'\u001b[39m] \u001b[38;5;241m=\u001b[39m \u001b[38;5;241m1\u001b[39m\n\u001b[1;32m      5\u001b[0m config[\u001b[38;5;124m'\u001b[39m\u001b[38;5;124mnum_workers\u001b[39m\u001b[38;5;124m'\u001b[39m] \u001b[38;5;241m=\u001b[39m \u001b[38;5;241m1\u001b[39m\n\u001b[0;32m----> 7\u001b[0m train_loader, val_loader \u001b[38;5;241m=\u001b[39m \u001b[43mcompile_data\u001b[49m\u001b[43m(\u001b[49m\u001b[38;5;124;43m\"\u001b[39;49m\u001b[38;5;124;43mmini\u001b[39;49m\u001b[38;5;124;43m\"\u001b[39;49m\u001b[43m,\u001b[49m\u001b[43m \u001b[49m\u001b[43mconfig\u001b[49m\u001b[43m,\u001b[49m\u001b[43m \u001b[49m\u001b[43mshuffle_train\u001b[49m\u001b[38;5;241;43m=\u001b[39;49m\u001b[38;5;28;43;01mTrue\u001b[39;49;00m\u001b[43m,\u001b[49m\u001b[43m \u001b[49m\u001b[43mood\u001b[49m\u001b[38;5;241;43m=\u001b[39;49m\u001b[38;5;28;43;01mTrue\u001b[39;49;00m\u001b[43m)\u001b[49m\n",
      "File \u001b[0;32m/data/bny220000/projects/bev/datasets/nuscenes.py:474\u001b[0m, in \u001b[0;36mcompile_data\u001b[0;34m(version, config, ood, augment_train, shuffle_train)\u001b[0m\n\u001b[1;32m    471\u001b[0m nusc_maps \u001b[38;5;241m=\u001b[39m get_nusc_maps(os\u001b[38;5;241m.\u001b[39mpath\u001b[38;5;241m.\u001b[39mjoin(dataroot, version))\n\u001b[1;32m    473\u001b[0m train_data \u001b[38;5;241m=\u001b[39m NuscData(nusc, nusc_maps, dims, is_train\u001b[38;5;241m=\u001b[39m\u001b[38;5;28;01mTrue\u001b[39;00m, ood\u001b[38;5;241m=\u001b[39mood, flipped\u001b[38;5;241m=\u001b[39mflipped)\n\u001b[0;32m--> 474\u001b[0m val_data \u001b[38;5;241m=\u001b[39m \u001b[43mNuscData\u001b[49m\u001b[43m(\u001b[49m\u001b[43mnusc\u001b[49m\u001b[43m,\u001b[49m\u001b[43m \u001b[49m\u001b[43mnusc_maps\u001b[49m\u001b[43m,\u001b[49m\u001b[43m \u001b[49m\u001b[43mdims\u001b[49m\u001b[43m,\u001b[49m\u001b[43m \u001b[49m\u001b[43mis_train\u001b[49m\u001b[38;5;241;43m=\u001b[39;49m\u001b[38;5;28;43;01mFalse\u001b[39;49;00m\u001b[43m,\u001b[49m\u001b[43m \u001b[49m\u001b[43mood\u001b[49m\u001b[38;5;241;43m=\u001b[39;49m\u001b[43mood\u001b[49m\u001b[43m,\u001b[49m\u001b[43m \u001b[49m\u001b[43mflipped\u001b[49m\u001b[38;5;241;43m=\u001b[39;49m\u001b[43mflipped\u001b[49m\u001b[43m)\u001b[49m\n\u001b[1;32m    476\u001b[0m train_loader \u001b[38;5;241m=\u001b[39m torch\u001b[38;5;241m.\u001b[39mutils\u001b[38;5;241m.\u001b[39mdata\u001b[38;5;241m.\u001b[39mDataLoader(train_data, batch_size\u001b[38;5;241m=\u001b[39mconfig[\u001b[38;5;124m'\u001b[39m\u001b[38;5;124mbatch_size\u001b[39m\u001b[38;5;124m'\u001b[39m],\n\u001b[1;32m    477\u001b[0m                                            shuffle\u001b[38;5;241m=\u001b[39mshuffle_train,\n\u001b[1;32m    478\u001b[0m                                            num_workers\u001b[38;5;241m=\u001b[39mconfig[\u001b[38;5;124m'\u001b[39m\u001b[38;5;124mnum_workers\u001b[39m\u001b[38;5;124m'\u001b[39m],\n\u001b[1;32m    479\u001b[0m                                            drop_last\u001b[38;5;241m=\u001b[39m\u001b[38;5;28;01mTrue\u001b[39;00m,\n\u001b[1;32m    480\u001b[0m                                            pin_memory\u001b[38;5;241m=\u001b[39m\u001b[38;5;28;01mTrue\u001b[39;00m,\n\u001b[1;32m    481\u001b[0m                                            worker_init_fn\u001b[38;5;241m=\u001b[39mworker_rnd_init)\n\u001b[1;32m    483\u001b[0m val_loader \u001b[38;5;241m=\u001b[39m torch\u001b[38;5;241m.\u001b[39mutils\u001b[38;5;241m.\u001b[39mdata\u001b[38;5;241m.\u001b[39mDataLoader(val_data, batch_size\u001b[38;5;241m=\u001b[39mconfig[\u001b[38;5;124m'\u001b[39m\u001b[38;5;124mbatch_size\u001b[39m\u001b[38;5;124m'\u001b[39m],\n\u001b[1;32m    484\u001b[0m                                          shuffle\u001b[38;5;241m=\u001b[39m\u001b[38;5;28;01mTrue\u001b[39;00m,\n\u001b[1;32m    485\u001b[0m                                          num_workers\u001b[38;5;241m=\u001b[39mconfig[\u001b[38;5;124m'\u001b[39m\u001b[38;5;124mnum_workers\u001b[39m\u001b[38;5;124m'\u001b[39m],\n\u001b[1;32m    486\u001b[0m                                          drop_last\u001b[38;5;241m=\u001b[39m\u001b[38;5;28;01mTrue\u001b[39;00m,\n\u001b[1;32m    487\u001b[0m                                          pin_memory\u001b[38;5;241m=\u001b[39m\u001b[38;5;28;01mTrue\u001b[39;00m,\n\u001b[1;32m    488\u001b[0m                                          )\n",
      "File \u001b[0;32m/data/bny220000/projects/bev/datasets/nuscenes.py:177\u001b[0m, in \u001b[0;36mNuscData.__init__\u001b[0;34m(self, nusc, nusc_maps, final_dim, is_train, H, W, resize_lim, bot_pct_lim, rot_lim, rand_flip, ncams, xbound, ybound, zbound, dbound, ood, flipped)\u001b[0m\n\u001b[1;32m    174\u001b[0m dx, bx, nx \u001b[38;5;241m=\u001b[39m gen_dx_bx(\u001b[38;5;28mself\u001b[39m\u001b[38;5;241m.\u001b[39mgrid_conf[\u001b[38;5;124m'\u001b[39m\u001b[38;5;124mxbound\u001b[39m\u001b[38;5;124m'\u001b[39m], \u001b[38;5;28mself\u001b[39m\u001b[38;5;241m.\u001b[39mgrid_conf[\u001b[38;5;124m'\u001b[39m\u001b[38;5;124mybound\u001b[39m\u001b[38;5;124m'\u001b[39m], \u001b[38;5;28mself\u001b[39m\u001b[38;5;241m.\u001b[39mgrid_conf[\u001b[38;5;124m'\u001b[39m\u001b[38;5;124mzbound\u001b[39m\u001b[38;5;124m'\u001b[39m])\n\u001b[1;32m    175\u001b[0m \u001b[38;5;28mself\u001b[39m\u001b[38;5;241m.\u001b[39mdx, \u001b[38;5;28mself\u001b[39m\u001b[38;5;241m.\u001b[39mbx, \u001b[38;5;28mself\u001b[39m\u001b[38;5;241m.\u001b[39mnx \u001b[38;5;241m=\u001b[39m dx\u001b[38;5;241m.\u001b[39mnumpy(), bx\u001b[38;5;241m.\u001b[39mnumpy(), nx\u001b[38;5;241m.\u001b[39mnumpy()\n\u001b[0;32m--> 177\u001b[0m \u001b[38;5;28;43mself\u001b[39;49m\u001b[38;5;241;43m.\u001b[39;49m\u001b[43mfix_nuscenes_formatting\u001b[49m\u001b[43m(\u001b[49m\u001b[43m)\u001b[49m\n\u001b[1;32m    178\u001b[0m \u001b[38;5;28mself\u001b[39m\u001b[38;5;241m.\u001b[39mscene2map \u001b[38;5;241m=\u001b[39m {}\n\u001b[1;32m    179\u001b[0m \u001b[38;5;28;01mfor\u001b[39;00m rec \u001b[38;5;129;01min\u001b[39;00m nusc\u001b[38;5;241m.\u001b[39mscene:\n",
      "File \u001b[0;32m/data/bny220000/projects/bev/datasets/nuscenes.py:188\u001b[0m, in \u001b[0;36mNuscData.fix_nuscenes_formatting\u001b[0;34m(self)\u001b[0m\n\u001b[1;32m    184\u001b[0m \u001b[38;5;250m\u001b[39m\u001b[38;5;124;03m\"\"\"If nuscenes is stored with trainval/1 trainval/2 ... structure, adjust the file paths\u001b[39;00m\n\u001b[1;32m    185\u001b[0m \u001b[38;5;124;03mstored in the nuScenes object.\u001b[39;00m\n\u001b[1;32m    186\u001b[0m \u001b[38;5;124;03m\"\"\"\u001b[39;00m\n\u001b[1;32m    187\u001b[0m \u001b[38;5;66;03m# check if default file paths work\u001b[39;00m\n\u001b[0;32m--> 188\u001b[0m rec \u001b[38;5;241m=\u001b[39m \u001b[38;5;28;43mself\u001b[39;49m\u001b[38;5;241;43m.\u001b[39;49m\u001b[43mixes\u001b[49m\u001b[43m[\u001b[49m\u001b[38;5;241;43m0\u001b[39;49m\u001b[43m]\u001b[49m\n\u001b[1;32m    189\u001b[0m sampimg \u001b[38;5;241m=\u001b[39m \u001b[38;5;28mself\u001b[39m\u001b[38;5;241m.\u001b[39mnusc\u001b[38;5;241m.\u001b[39mget(\u001b[38;5;124m'\u001b[39m\u001b[38;5;124msample_data\u001b[39m\u001b[38;5;124m'\u001b[39m, rec[\u001b[38;5;124m'\u001b[39m\u001b[38;5;124mdata\u001b[39m\u001b[38;5;124m'\u001b[39m][\u001b[38;5;124m'\u001b[39m\u001b[38;5;124mCAM_FRONT\u001b[39m\u001b[38;5;124m'\u001b[39m])\n\u001b[1;32m    190\u001b[0m imgname \u001b[38;5;241m=\u001b[39m os\u001b[38;5;241m.\u001b[39mpath\u001b[38;5;241m.\u001b[39mjoin(\u001b[38;5;28mself\u001b[39m\u001b[38;5;241m.\u001b[39mnusc\u001b[38;5;241m.\u001b[39mdataroot, sampimg[\u001b[38;5;124m'\u001b[39m\u001b[38;5;124mfilename\u001b[39m\u001b[38;5;124m'\u001b[39m])\n",
      "\u001b[0;31mIndexError\u001b[0m: list index out of range"
     ]
    }
   ],
   "source": [
    "with open(\"./configs/eval_nuscenes_cvt_enn.yaml\", 'r') as file:\n",
    "    config = yaml.safe_load(file)\n",
    "    \n",
    "config['batch_size'] = 1\n",
    "config['num_workers'] = 1\n",
    "\n",
    "train_loader, val_loader = compile_data(\"mini\", config, shuffle_train=True, ood=True)"
   ]
  },
  {
   "cell_type": "code",
   "execution_count": null,
   "metadata": {},
   "outputs": [],
   "source": []
  },
  {
   "cell_type": "code",
   "execution_count": 9,
   "metadata": {},
   "outputs": [],
   "source": [
    "t = iter(train_loader)\n",
    "next(t)\n",
    "imgs, rots, trans, intrins, extrins, post_rots, post_trans, labels, ood = next(t)"
   ]
  },
  {
   "cell_type": "raw",
   "metadata": {},
   "source": [
    "      "
   ]
  },
  {
   "cell_type": "code",
   "execution_count": 4,
   "metadata": {},
   "outputs": [
    {
     "ename": "NameError",
     "evalue": "name 'imgs' is not defined",
     "output_type": "error",
     "traceback": [
      "\u001b[0;31m---------------------------------------------------------------------------\u001b[0m",
      "\u001b[0;31mNameError\u001b[0m                                 Traceback (most recent call last)",
      "Cell \u001b[0;32mIn[4], line 1\u001b[0m\n\u001b[0;32m----> 1\u001b[0m plt\u001b[38;5;241m.\u001b[39mimshow(\u001b[43mimgs\u001b[49m[\u001b[38;5;241m0\u001b[39m,\u001b[38;5;241m5\u001b[39m]\u001b[38;5;241m.\u001b[39mpermute(\u001b[38;5;241m1\u001b[39m, \u001b[38;5;241m2\u001b[39m, \u001b[38;5;241m0\u001b[39m))\n",
      "\u001b[0;31mNameError\u001b[0m: name 'imgs' is not defined"
     ]
    }
   ],
   "source": [
    "plt.imshow(imgs[0,5].permute(1, 2, 0))"
   ]
  },
  {
   "cell_type": "code",
   "execution_count": 40,
   "metadata": {},
   "outputs": [
    {
     "name": "stdout",
     "output_type": "stream",
     "text": [
      "tensor(1., dtype=torch.float64)\n"
     ]
    },
    {
     "data": {
      "image/png": "[encoded data removed]",
      "text/plain": [
       "<Figure size 640x480 with 1 Axes>"
      ]
     },
     "metadata": {},
     "output_type": "display_data"
    }
   ],
   "source": [
    "plt.imshow(ood[0]*255)\n",
    "print(torch.max(ood))"
   ]
  },
  {
   "cell_type": "code",
   "execution_count": null,
   "metadata": {},
   "outputs": [],
   "source": []
  }
 ],
 "metadata": {
  "kernelspec": {
   "display_name": "Python 3 (ipykernel)",
   "language": "python",
   "name": "python3"
  },
  "language_info": {
   "codemirror_mode": {
    "name": "ipython",
    "version": 3
   },
   "file_extension": ".py",
   "mimetype": "text/x-python",
   "name": "python",
   "nbconvert_exporter": "python",
   "pygments_lexer": "ipython3",
   "version": "3.8.10"
  }
 },
 "nbformat": 4,
 "nbformat_minor": 1
}
